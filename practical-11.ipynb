{
 "cells": [
  {
   "cell_type": "markdown",
   "id": "1851a820",
   "metadata": {
    "papermill": {
     "duration": 0.00176,
     "end_time": "2023-11-06T07:38:49.842636",
     "exception": false,
     "start_time": "2023-11-06T07:38:49.840876",
     "status": "completed"
    },
    "tags": []
   },
   "source": [
    "#  Rathod Aarti [[216270307039]"
   ]
  },
  {
   "cell_type": "code",
   "execution_count": 1,
   "id": "0a86ac9a",
   "metadata": {
    "execution": {
     "iopub.execute_input": "2023-11-06T07:38:49.847241Z",
     "iopub.status.busy": "2023-11-06T07:38:49.846901Z",
     "iopub.status.idle": "2023-11-06T07:38:50.179903Z",
     "shell.execute_reply": "2023-11-06T07:38:50.179012Z"
    },
    "papermill": {
     "duration": 0.3393,
     "end_time": "2023-11-06T07:38:50.183332",
     "exception": false,
     "start_time": "2023-11-06T07:38:49.844032",
     "status": "completed"
    },
    "tags": []
   },
   "outputs": [
    {
     "name": "stdout",
     "output_type": "stream",
     "text": [
      "Total Rows are :  418\n",
      "\n",
      "Columns with NaN values:\n",
      "Index([], dtype='object')\n",
      "\n",
      "Total rows after dropping NaN : 418\n"
     ]
    }
   ],
   "source": [
    "# pra-11 Write a Pandas program to filter all columns where all entries present, check which\n",
    "#rows and columns has a NaN and finally drop rows with any NaNs from the given dataset.\n",
    "import pandas as pd\n",
    "data=pd.read_csv('/kaggle/input/titanic-tutorial/submission.csv')\n",
    "df = pd.DataFrame(data)\n",
    "df_filtered = df.dropna(axis=1, how='any')\n",
    "rows_with_nan = df[df.isna().any(axis=1)]\n",
    "columns_with_nan = df.columns[df.isna().any()]\n",
    "print(\"Total Rows are : \",len(df_filtered))\n",
    "print(\"\\nColumns with NaN values:\")\n",
    "print(columns_with_nan)\n",
    "df_no_na_rows = df.dropna(axis=0, how='any')\n",
    "print(f\"\\nTotal rows after dropping NaN : {len(df_no_na_rows)}\")"
   ]
  }
 ],
 "metadata": {
  "kernelspec": {
   "display_name": "Python 3",
   "language": "python",
   "name": "python3"
  },
  "language_info": {
   "codemirror_mode": {
    "name": "ipython",
    "version": 3
   },
   "file_extension": ".py",
   "mimetype": "text/x-python",
   "name": "python",
   "nbconvert_exporter": "python",
   "pygments_lexer": "ipython3",
   "version": "3.10.12"
  },
  "papermill": {
   "default_parameters": {},
   "duration": 3.871235,
   "end_time": "2023-11-06T07:38:50.605067",
   "environment_variables": {},
   "exception": null,
   "input_path": "__notebook__.ipynb",
   "output_path": "__notebook__.ipynb",
   "parameters": {},
   "start_time": "2023-11-06T07:38:46.733832",
   "version": "2.4.0"
  }
 },
 "nbformat": 4,
 "nbformat_minor": 5
}
