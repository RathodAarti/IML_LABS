{
 "cells": [
  {
   "cell_type": "markdown",
   "id": "91484c06",
   "metadata": {
    "_cell_guid": "b1076dfc-b9ad-4769-8c92-a6c4dae69d19",
    "_uuid": "8f2839f25d086af736a60e9eeb907d3b93b6e0e5",
    "papermill": {
     "duration": 0.003351,
     "end_time": "2023-11-06T07:28:51.133197",
     "exception": false,
     "start_time": "2023-11-06T07:28:51.129846",
     "status": "completed"
    },
    "tags": []
   },
   "source": [
    "# Rathod Aarti [216270307039]"
   ]
  },
  {
   "cell_type": "code",
   "execution_count": 1,
   "id": "9e30fa93",
   "metadata": {
    "execution": {
     "iopub.execute_input": "2023-11-06T07:28:51.141581Z",
     "iopub.status.busy": "2023-11-06T07:28:51.140763Z",
     "iopub.status.idle": "2023-11-06T07:28:51.583676Z",
     "shell.execute_reply": "2023-11-06T07:28:51.582477Z"
    },
    "papermill": {
     "duration": 0.450373,
     "end_time": "2023-11-06T07:28:51.586608",
     "exception": false,
     "start_time": "2023-11-06T07:28:51.136235",
     "status": "completed"
    },
    "tags": []
   },
   "outputs": [
    {
     "name": "stdout",
     "output_type": "stream",
     "text": [
      "       Name  Age\n",
      "0     Aarti   21\n",
      "1     Nensi   17\n",
      "2  Manashvi   17\n"
     ]
    }
   ],
   "source": [
    "# pra-7 Write a Pandas program to implement following operation\n",
    "# 7.1 to create a dataframe from a dictionary and display it\n",
    "# Name: Rathod Aarti\n",
    "# Enrollment: 216270307039\n",
    "# Sem: 5th\n",
    "import pandas as pd\n",
    "data = {\n",
    "    'Name': ['Aarti', 'Nensi', 'Manashvi'],\n",
    "    'Age': [21, 17, 17]\n",
    "}\n",
    "df = pd.DataFrame(data)\n",
    "print(df)"
   ]
  },
  {
   "cell_type": "code",
   "execution_count": 2,
   "id": "c682d9ec",
   "metadata": {
    "execution": {
     "iopub.execute_input": "2023-11-06T07:28:51.594499Z",
     "iopub.status.busy": "2023-11-06T07:28:51.593971Z",
     "iopub.status.idle": "2023-11-06T07:28:51.611935Z",
     "shell.execute_reply": "2023-11-06T07:28:51.610533Z"
    },
    "papermill": {
     "duration": 0.024886,
     "end_time": "2023-11-06T07:28:51.614491",
     "exception": false,
     "start_time": "2023-11-06T07:28:51.589605",
     "status": "completed"
    },
    "tags": []
   },
   "outputs": [
    {
     "name": "stdout",
     "output_type": "stream",
     "text": [
      "       Name  Age\n",
      "0     Aarti   21\n",
      "2  Manashvi   17\n",
      "1     Nensi   17\n"
     ]
    }
   ],
   "source": [
    "# 7.2  to sort the DataFrame first by 'name' in ascending order\n",
    "# Name: Rathod Aarti\n",
    "# Enrollment: 216270307039\n",
    "# Sem: 5th\n",
    "import pandas as pd\n",
    "data = {\n",
    "    'Name': ['Aarti', 'Nensi', 'Manashvi'],\n",
    "    'Age': [21, 17, 17]\n",
    "}\n",
    "df = pd.DataFrame(data)\n",
    "df_sort = df.sort_values(by='Name', ascending=True)\n",
    "print(df_sort)"
   ]
  },
  {
   "cell_type": "code",
   "execution_count": 3,
   "id": "18f4228d",
   "metadata": {
    "execution": {
     "iopub.execute_input": "2023-11-06T07:28:51.622916Z",
     "iopub.status.busy": "2023-11-06T07:28:51.622392Z",
     "iopub.status.idle": "2023-11-06T07:28:51.638195Z",
     "shell.execute_reply": "2023-11-06T07:28:51.636719Z"
    },
    "papermill": {
     "duration": 0.023217,
     "end_time": "2023-11-06T07:28:51.640807",
     "exception": false,
     "start_time": "2023-11-06T07:28:51.617590",
     "status": "completed"
    },
    "tags": []
   },
   "outputs": [
    {
     "name": "stdout",
     "output_type": "stream",
     "text": [
      "       Name\n",
      "0     Aarti\n",
      "1     Nensi\n",
      "2  Manashvi\n"
     ]
    }
   ],
   "source": [
    "# 7.3 to delete the one specific column from the DataFrame\n",
    "# Name: Rathod Aarti\n",
    "# Enrollment: 216270307039\n",
    "# Sem: 5th\n",
    "import pandas as pd\n",
    "\n",
    "data = {\n",
    "    'Name': ['Aarti', 'Nensi', 'Manashvi'],\n",
    "    'Age': [21, 17, 17]\n",
    "}\n",
    "\n",
    "df = pd.DataFrame(data)\n",
    "df = df.drop(columns=['Age'])\n",
    "print(df)"
   ]
  },
  {
   "cell_type": "code",
   "execution_count": 4,
   "id": "bc0e9530",
   "metadata": {
    "execution": {
     "iopub.execute_input": "2023-11-06T07:28:51.648917Z",
     "iopub.status.busy": "2023-11-06T07:28:51.648495Z",
     "iopub.status.idle": "2023-11-06T07:28:51.661899Z",
     "shell.execute_reply": "2023-11-06T07:28:51.660589Z"
    },
    "papermill": {
     "duration": 0.020179,
     "end_time": "2023-11-06T07:28:51.664187",
     "exception": false,
     "start_time": "2023-11-06T07:28:51.644008",
     "status": "completed"
    },
    "tags": []
   },
   "outputs": [
    {
     "name": "stdout",
     "output_type": "stream",
     "text": [
      "DataFrame has been written Successfully.\n"
     ]
    }
   ],
   "source": [
    "# 7.4  to write a DataFrame to CSV file using tab separator.\n",
    "# Name: Rathod Aarti\n",
    "# Enrollment: 216270307039\n",
    "# Sem: 5th\n",
    "import pandas as pd\n",
    "\n",
    "data = {\n",
    "    \"Name\": [\"Aarti\", \"Nensi\", \"Manashvi\"],\n",
    "    \"Age\": [21, 17, 17]\n",
    "}\n",
    "df = pd.DataFrame(data)\n",
    "df.to_csv('data.csv', sep='\\t', index=False)\n",
    "print(\"DataFrame has been written Successfully.\")"
   ]
  }
 ],
 "metadata": {
  "kernelspec": {
   "display_name": "Python 3",
   "language": "python",
   "name": "python3"
  },
  "language_info": {
   "codemirror_mode": {
    "name": "ipython",
    "version": 3
   },
   "file_extension": ".py",
   "mimetype": "text/x-python",
   "name": "python",
   "nbconvert_exporter": "python",
   "pygments_lexer": "ipython3",
   "version": "3.10.12"
  },
  "papermill": {
   "default_parameters": {},
   "duration": 4.766754,
   "end_time": "2023-11-06T07:28:52.188410",
   "environment_variables": {},
   "exception": null,
   "input_path": "__notebook__.ipynb",
   "output_path": "__notebook__.ipynb",
   "parameters": {},
   "start_time": "2023-11-06T07:28:47.421656",
   "version": "2.4.0"
  }
 },
 "nbformat": 4,
 "nbformat_minor": 5
}
