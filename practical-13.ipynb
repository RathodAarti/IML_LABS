{
 "cells": [
  {
   "cell_type": "markdown",
   "id": "2fe9c7f9",
   "metadata": {
    "_cell_guid": "b1076dfc-b9ad-4769-8c92-a6c4dae69d19",
    "_uuid": "8f2839f25d086af736a60e9eeb907d3b93b6e0e5",
    "papermill": {
     "duration": 0.002476,
     "end_time": "2023-11-06T07:41:53.761648",
     "exception": false,
     "start_time": "2023-11-06T07:41:53.759172",
     "status": "completed"
    },
    "tags": []
   },
   "source": [
    "# Rathod Aarti [216270307039]"
   ]
  },
  {
   "cell_type": "code",
   "execution_count": 1,
   "id": "1df800e0",
   "metadata": {
    "execution": {
     "iopub.execute_input": "2023-11-06T07:41:53.768905Z",
     "iopub.status.busy": "2023-11-06T07:41:53.767952Z",
     "iopub.status.idle": "2023-11-06T07:41:55.925815Z",
     "shell.execute_reply": "2023-11-06T07:41:55.924154Z"
    },
    "papermill": {
     "duration": 2.167803,
     "end_time": "2023-11-06T07:41:55.931591",
     "exception": false,
     "start_time": "2023-11-06T07:41:53.763788",
     "status": "completed"
    },
    "tags": []
   },
   "outputs": [
    {
     "name": "stdout",
     "output_type": "stream",
     "text": [
      "Accuracy of the K-NN classifier with k=3: 100.00%\n"
     ]
    }
   ],
   "source": [
    "#Practical No.13: Write a Python program to implement K-Nearest Neighbour supervised\n",
    "#machine learning algorithm for given dataset.\n",
    "\n",
    "from sklearn import datasets\n",
    "from sklearn.model_selection import train_test_split\n",
    "from sklearn.neighbors import KNeighborsClassifier\n",
    "from sklearn.metrics import accuracy_score\n",
    "iris = datasets.load_iris()\n",
    "X = iris.data \n",
    "y = iris.target \n",
    "X_train, X_test, y_train, y_test = train_test_split(X, y, test_size=0.2, random_state=42)\n",
    "k = 3  \n",
    "knn_classifier = KNeighborsClassifier(n_neighbors=k)\n",
    "knn_classifier.fit(X_train, y_train)\n",
    "y_pred = knn_classifier.predict(X_test)\n",
    "accuracy = accuracy_score(y_test, y_pred)\n",
    "print(f\"Accuracy of the K-NN classifier with k={k}: {accuracy * 100:.2f}%\")"
   ]
  }
 ],
 "metadata": {
  "kernelspec": {
   "display_name": "Python 3",
   "language": "python",
   "name": "python3"
  },
  "language_info": {
   "codemirror_mode": {
    "name": "ipython",
    "version": 3
   },
   "file_extension": ".py",
   "mimetype": "text/x-python",
   "name": "python",
   "nbconvert_exporter": "python",
   "pygments_lexer": "ipython3",
   "version": "3.10.12"
  },
  "papermill": {
   "default_parameters": {},
   "duration": 7.224565,
   "end_time": "2023-11-06T07:41:56.759173",
   "environment_variables": {},
   "exception": null,
   "input_path": "__notebook__.ipynb",
   "output_path": "__notebook__.ipynb",
   "parameters": {},
   "start_time": "2023-11-06T07:41:49.534608",
   "version": "2.4.0"
  }
 },
 "nbformat": 4,
 "nbformat_minor": 5
}
